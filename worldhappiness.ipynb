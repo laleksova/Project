{
 "cells": [
  {
   "cell_type": "code",
   "execution_count": 1,
   "metadata": {},
   "outputs": [],
   "source": [
    "import numpy as np\n",
    "import pandas as pd\n",
    "import matplotlib as mpl\n",
    "import sklearn as skl"
   ]
  },
  {
   "cell_type": "code",
   "execution_count": 2,
   "metadata": {},
   "outputs": [],
   "source": [
    "wh=pd.read_csv('../Dataset/world-happiness-report-2019.csv', index_col='Ladder')\n"
   ]
  },
  {
   "cell_type": "code",
   "execution_count": 3,
   "metadata": {},
   "outputs": [
    {
     "data": {
      "text/html": [
       "<div>\n",
       "<style scoped>\n",
       "    .dataframe tbody tr th:only-of-type {\n",
       "        vertical-align: middle;\n",
       "    }\n",
       "\n",
       "    .dataframe tbody tr th {\n",
       "        vertical-align: top;\n",
       "    }\n",
       "\n",
       "    .dataframe thead th {\n",
       "        text-align: right;\n",
       "    }\n",
       "</style>\n",
       "<table border=\"1\" class=\"dataframe\">\n",
       "  <thead>\n",
       "    <tr style=\"text-align: right;\">\n",
       "      <th></th>\n",
       "      <th>Country (region)</th>\n",
       "      <th>SD of Ladder</th>\n",
       "      <th>Positive affect</th>\n",
       "      <th>Negative affect</th>\n",
       "      <th>Social support</th>\n",
       "      <th>Freedom</th>\n",
       "      <th>Corruption</th>\n",
       "      <th>Generosity</th>\n",
       "      <th>Log of GDP\\nper capita</th>\n",
       "      <th>Healthy life\\nexpectancy</th>\n",
       "    </tr>\n",
       "    <tr>\n",
       "      <th>Ladder</th>\n",
       "      <th></th>\n",
       "      <th></th>\n",
       "      <th></th>\n",
       "      <th></th>\n",
       "      <th></th>\n",
       "      <th></th>\n",
       "      <th></th>\n",
       "      <th></th>\n",
       "      <th></th>\n",
       "      <th></th>\n",
       "    </tr>\n",
       "  </thead>\n",
       "  <tbody>\n",
       "    <tr>\n",
       "      <th>1</th>\n",
       "      <td>Finland</td>\n",
       "      <td>4</td>\n",
       "      <td>41.0</td>\n",
       "      <td>10.0</td>\n",
       "      <td>2.0</td>\n",
       "      <td>5.0</td>\n",
       "      <td>4.0</td>\n",
       "      <td>47.0</td>\n",
       "      <td>22.0</td>\n",
       "      <td>27.0</td>\n",
       "    </tr>\n",
       "    <tr>\n",
       "      <th>2</th>\n",
       "      <td>Denmark</td>\n",
       "      <td>13</td>\n",
       "      <td>24.0</td>\n",
       "      <td>26.0</td>\n",
       "      <td>4.0</td>\n",
       "      <td>6.0</td>\n",
       "      <td>3.0</td>\n",
       "      <td>22.0</td>\n",
       "      <td>14.0</td>\n",
       "      <td>23.0</td>\n",
       "    </tr>\n",
       "    <tr>\n",
       "      <th>3</th>\n",
       "      <td>Norway</td>\n",
       "      <td>8</td>\n",
       "      <td>16.0</td>\n",
       "      <td>29.0</td>\n",
       "      <td>3.0</td>\n",
       "      <td>3.0</td>\n",
       "      <td>8.0</td>\n",
       "      <td>11.0</td>\n",
       "      <td>7.0</td>\n",
       "      <td>12.0</td>\n",
       "    </tr>\n",
       "    <tr>\n",
       "      <th>4</th>\n",
       "      <td>Iceland</td>\n",
       "      <td>9</td>\n",
       "      <td>3.0</td>\n",
       "      <td>3.0</td>\n",
       "      <td>1.0</td>\n",
       "      <td>7.0</td>\n",
       "      <td>45.0</td>\n",
       "      <td>3.0</td>\n",
       "      <td>15.0</td>\n",
       "      <td>13.0</td>\n",
       "    </tr>\n",
       "    <tr>\n",
       "      <th>5</th>\n",
       "      <td>Netherlands</td>\n",
       "      <td>1</td>\n",
       "      <td>12.0</td>\n",
       "      <td>25.0</td>\n",
       "      <td>15.0</td>\n",
       "      <td>19.0</td>\n",
       "      <td>12.0</td>\n",
       "      <td>7.0</td>\n",
       "      <td>12.0</td>\n",
       "      <td>18.0</td>\n",
       "    </tr>\n",
       "  </tbody>\n",
       "</table>\n",
       "</div>"
      ],
      "text/plain": [
       "       Country (region)  SD of Ladder  Positive affect  Negative affect  \\\n",
       "Ladder                                                                    \n",
       "1               Finland             4             41.0             10.0   \n",
       "2               Denmark            13             24.0             26.0   \n",
       "3                Norway             8             16.0             29.0   \n",
       "4               Iceland             9              3.0              3.0   \n",
       "5           Netherlands             1             12.0             25.0   \n",
       "\n",
       "        Social support  Freedom  Corruption  Generosity  \\\n",
       "Ladder                                                    \n",
       "1                  2.0      5.0         4.0        47.0   \n",
       "2                  4.0      6.0         3.0        22.0   \n",
       "3                  3.0      3.0         8.0        11.0   \n",
       "4                  1.0      7.0        45.0         3.0   \n",
       "5                 15.0     19.0        12.0         7.0   \n",
       "\n",
       "        Log of GDP\\nper capita  Healthy life\\nexpectancy  \n",
       "Ladder                                                    \n",
       "1                         22.0                      27.0  \n",
       "2                         14.0                      23.0  \n",
       "3                          7.0                      12.0  \n",
       "4                         15.0                      13.0  \n",
       "5                         12.0                      18.0  "
      ]
     },
     "execution_count": 3,
     "metadata": {},
     "output_type": "execute_result"
    }
   ],
   "source": [
    "wh.head()\n",
    "#wh.shape\n",
    "#wh.columns"
   ]
  },
  {
   "cell_type": "markdown",
   "metadata": {},
   "source": [
    "Cheking the data"
   ]
  },
  {
   "cell_type": "code",
   "execution_count": 4,
   "metadata": {},
   "outputs": [
    {
     "data": {
      "text/plain": [
       "Country (region)            0\n",
       "SD of Ladder                0\n",
       "Positive affect             1\n",
       "Negative affect             1\n",
       "Social support              1\n",
       "Freedom                     1\n",
       "Corruption                  8\n",
       "Generosity                  1\n",
       "Log of GDP\\nper capita      4\n",
       "Healthy life\\nexpectancy    6\n",
       "dtype: int64"
      ]
     },
     "execution_count": 4,
     "metadata": {},
     "output_type": "execute_result"
    }
   ],
   "source": [
    "wh.isnull().sum()"
   ]
  },
  {
   "cell_type": "code",
   "execution_count": 5,
   "metadata": {},
   "outputs": [
    {
     "data": {
      "text/html": [
       "<div>\n",
       "<style scoped>\n",
       "    .dataframe tbody tr th:only-of-type {\n",
       "        vertical-align: middle;\n",
       "    }\n",
       "\n",
       "    .dataframe tbody tr th {\n",
       "        vertical-align: top;\n",
       "    }\n",
       "\n",
       "    .dataframe thead th {\n",
       "        text-align: right;\n",
       "    }\n",
       "</style>\n",
       "<table border=\"1\" class=\"dataframe\">\n",
       "  <thead>\n",
       "    <tr style=\"text-align: right;\">\n",
       "      <th></th>\n",
       "      <th>Country (region)</th>\n",
       "      <th>SD of Ladder</th>\n",
       "      <th>Positive affect</th>\n",
       "      <th>Negative affect</th>\n",
       "      <th>Social support</th>\n",
       "      <th>Freedom</th>\n",
       "      <th>Corruption</th>\n",
       "      <th>Generosity</th>\n",
       "      <th>Log of GDP\\nper capita</th>\n",
       "      <th>Healthy life\\nexpectancy</th>\n",
       "    </tr>\n",
       "    <tr>\n",
       "      <th>Ladder</th>\n",
       "      <th></th>\n",
       "      <th></th>\n",
       "      <th></th>\n",
       "      <th></th>\n",
       "      <th></th>\n",
       "      <th></th>\n",
       "      <th></th>\n",
       "      <th></th>\n",
       "      <th></th>\n",
       "      <th></th>\n",
       "    </tr>\n",
       "  </thead>\n",
       "  <tbody>\n",
       "    <tr>\n",
       "      <th>25</th>\n",
       "      <td>Taiwan</td>\n",
       "      <td>37</td>\n",
       "      <td>17.0</td>\n",
       "      <td>1.0</td>\n",
       "      <td>48.0</td>\n",
       "      <td>102.0</td>\n",
       "      <td>56.0</td>\n",
       "      <td>56.0</td>\n",
       "      <td>NaN</td>\n",
       "      <td>NaN</td>\n",
       "    </tr>\n",
       "    <tr>\n",
       "      <th>46</th>\n",
       "      <td>Kosovo</td>\n",
       "      <td>107</td>\n",
       "      <td>71.0</td>\n",
       "      <td>7.0</td>\n",
       "      <td>85.0</td>\n",
       "      <td>50.0</td>\n",
       "      <td>144.0</td>\n",
       "      <td>31.0</td>\n",
       "      <td>88.0</td>\n",
       "      <td>NaN</td>\n",
       "    </tr>\n",
       "    <tr>\n",
       "      <th>64</th>\n",
       "      <td>Northern Cyprus</td>\n",
       "      <td>35</td>\n",
       "      <td>144.0</td>\n",
       "      <td>90.0</td>\n",
       "      <td>81.0</td>\n",
       "      <td>77.0</td>\n",
       "      <td>29.0</td>\n",
       "      <td>43.0</td>\n",
       "      <td>NaN</td>\n",
       "      <td>NaN</td>\n",
       "    </tr>\n",
       "    <tr>\n",
       "      <th>76</th>\n",
       "      <td>Hong Kong</td>\n",
       "      <td>33</td>\n",
       "      <td>105.0</td>\n",
       "      <td>28.0</td>\n",
       "      <td>76.0</td>\n",
       "      <td>66.0</td>\n",
       "      <td>14.0</td>\n",
       "      <td>18.0</td>\n",
       "      <td>9.0</td>\n",
       "      <td>NaN</td>\n",
       "    </tr>\n",
       "    <tr>\n",
       "      <th>110</th>\n",
       "      <td>Palestinian Territories</td>\n",
       "      <td>110</td>\n",
       "      <td>128.0</td>\n",
       "      <td>140.0</td>\n",
       "      <td>82.0</td>\n",
       "      <td>134.0</td>\n",
       "      <td>90.0</td>\n",
       "      <td>147.0</td>\n",
       "      <td>112.0</td>\n",
       "      <td>NaN</td>\n",
       "    </tr>\n",
       "    <tr>\n",
       "      <th>135</th>\n",
       "      <td>Swaziland</td>\n",
       "      <td>104</td>\n",
       "      <td>26.0</td>\n",
       "      <td>57.0</td>\n",
       "      <td>103.0</td>\n",
       "      <td>113.0</td>\n",
       "      <td>41.0</td>\n",
       "      <td>145.0</td>\n",
       "      <td>96.0</td>\n",
       "      <td>NaN</td>\n",
       "    </tr>\n",
       "  </tbody>\n",
       "</table>\n",
       "</div>"
      ],
      "text/plain": [
       "               Country (region)  SD of Ladder  Positive affect  \\\n",
       "Ladder                                                           \n",
       "25                       Taiwan            37             17.0   \n",
       "46                       Kosovo           107             71.0   \n",
       "64              Northern Cyprus            35            144.0   \n",
       "76                    Hong Kong            33            105.0   \n",
       "110     Palestinian Territories           110            128.0   \n",
       "135                   Swaziland           104             26.0   \n",
       "\n",
       "        Negative affect  Social support  Freedom  Corruption  Generosity  \\\n",
       "Ladder                                                                     \n",
       "25                  1.0            48.0    102.0        56.0        56.0   \n",
       "46                  7.0            85.0     50.0       144.0        31.0   \n",
       "64                 90.0            81.0     77.0        29.0        43.0   \n",
       "76                 28.0            76.0     66.0        14.0        18.0   \n",
       "110               140.0            82.0    134.0        90.0       147.0   \n",
       "135                57.0           103.0    113.0        41.0       145.0   \n",
       "\n",
       "        Log of GDP\\nper capita  Healthy life\\nexpectancy  \n",
       "Ladder                                                    \n",
       "25                         NaN                       NaN  \n",
       "46                        88.0                       NaN  \n",
       "64                         NaN                       NaN  \n",
       "76                         9.0                       NaN  \n",
       "110                      112.0                       NaN  \n",
       "135                       96.0                       NaN  "
      ]
     },
     "execution_count": 5,
     "metadata": {},
     "output_type": "execute_result"
    }
   ],
   "source": [
    "wh[wh['Healthy life\\nexpectancy'].isnull()]\n"
   ]
  },
  {
   "cell_type": "code",
   "execution_count": 6,
   "metadata": {},
   "outputs": [
    {
     "data": {
      "text/plain": [
       "Country (region)             object\n",
       "SD of Ladder                  int64\n",
       "Positive affect             float64\n",
       "Negative affect             float64\n",
       "Social support              float64\n",
       "Freedom                     float64\n",
       "Corruption                  float64\n",
       "Generosity                  float64\n",
       "Log of GDP\\nper capita      float64\n",
       "Healthy life\\nexpectancy    float64\n",
       "dtype: object"
      ]
     },
     "execution_count": 6,
     "metadata": {},
     "output_type": "execute_result"
    }
   ],
   "source": [
    "#Checking if every column is int\n",
    "wh.dtypes"
   ]
  },
  {
   "cell_type": "code",
   "execution_count": 7,
   "metadata": {},
   "outputs": [],
   "source": [
    "#wh['Healthy life\\nexpectancy'].astype(int)\n",
    "#def big_clean(x):\n",
    "   # y = x.isnull()\n",
    "    #if y == 0 or y == True :\n",
    "        #print(y)\n",
    "    \n",
    "#wh['Healthy life\\nexpectancy'] = wh['Healthy life\\nexpectancy'].astype(str)"
   ]
  },
  {
   "cell_type": "code",
   "execution_count": 8,
   "metadata": {},
   "outputs": [],
   "source": [
    "wh.replace(['NAN','nan'],np.NaN,inplace=True)"
   ]
  },
  {
   "cell_type": "code",
   "execution_count": 9,
   "metadata": {},
   "outputs": [
    {
     "data": {
      "text/plain": [
       "Country (region)            0\n",
       "SD of Ladder                0\n",
       "Positive affect             1\n",
       "Negative affect             1\n",
       "Social support              1\n",
       "Freedom                     1\n",
       "Corruption                  8\n",
       "Generosity                  1\n",
       "Log of GDP\\nper capita      4\n",
       "Healthy life\\nexpectancy    6\n",
       "dtype: int64"
      ]
     },
     "execution_count": 9,
     "metadata": {},
     "output_type": "execute_result"
    }
   ],
   "source": [
    "wh.isnull().sum()"
   ]
  },
  {
   "cell_type": "code",
   "execution_count": 10,
   "metadata": {},
   "outputs": [],
   "source": [
    "wh.fillna(wh['Healthy life\\nexpectancy'].mean(), inplace=True)"
   ]
  },
  {
   "cell_type": "code",
   "execution_count": 11,
   "metadata": {},
   "outputs": [],
   "source": [
    "wh.fillna(wh['Log of GDP\\nper capita'].mean(), inplace=True)\n",
    "wh.fillna(wh['Corruption'].mean(), inplace=True)"
   ]
  },
  {
   "cell_type": "code",
   "execution_count": 12,
   "metadata": {},
   "outputs": [],
   "source": [
    "#ms1 = wh['Healthy life\\nexpectancy'].mean()\n",
    "#ms2 = wh['Corruption'].mean\n",
    "#ms3 = wh['Log of GDP\\nper capita'].mean\n",
    "    \n",
    "#wh['Healthy life\\nexpectancy'] = np.where(wh['Healthy life\\nexpectancy'].isnull(), ms1 , wh['Healthy life\\nexpectancy'] )\n",
    "#wh['Corruption'] = np.where(wh['Corruption'].isnull(), ms2 , wh['Corruption'] )\n",
    "#wh['Log of GDP\\nper capita'] = np.where(wh['Log of GDP\\nper capita'].isnull(), ms3 , wh['Log of GDP\\nper capita'] )"
   ]
  },
  {
   "cell_type": "code",
   "execution_count": 13,
   "metadata": {},
   "outputs": [
    {
     "data": {
      "text/plain": [
       "Country (region)            0\n",
       "SD of Ladder                0\n",
       "Positive affect             0\n",
       "Negative affect             0\n",
       "Social support              0\n",
       "Freedom                     0\n",
       "Corruption                  0\n",
       "Generosity                  0\n",
       "Log of GDP\\nper capita      0\n",
       "Healthy life\\nexpectancy    0\n",
       "dtype: int64"
      ]
     },
     "execution_count": 13,
     "metadata": {},
     "output_type": "execute_result"
    }
   ],
   "source": [
    "wh.isnull().sum()"
   ]
  },
  {
   "cell_type": "code",
   "execution_count": 14,
   "metadata": {},
   "outputs": [],
   "source": [
    "#def cleaning(df_column):\n",
    "    #df_column = np.where(df_column.isnull(), df_column.mean , df_column)"
   ]
  },
  {
   "cell_type": "code",
   "execution_count": 15,
   "metadata": {},
   "outputs": [
    {
     "data": {
      "text/plain": [
       "Country (region)             object\n",
       "SD of Ladder                  int64\n",
       "Positive affect             float64\n",
       "Negative affect             float64\n",
       "Social support              float64\n",
       "Freedom                     float64\n",
       "Corruption                  float64\n",
       "Generosity                  float64\n",
       "Log of GDP\\nper capita      float64\n",
       "Healthy life\\nexpectancy    float64\n",
       "dtype: object"
      ]
     },
     "execution_count": 15,
     "metadata": {},
     "output_type": "execute_result"
    }
   ],
   "source": [
    "wh.dtypes"
   ]
  },
  {
   "cell_type": "code",
   "execution_count": 16,
   "metadata": {},
   "outputs": [
    {
     "data": {
      "text/html": [
       "<div>\n",
       "<style scoped>\n",
       "    .dataframe tbody tr th:only-of-type {\n",
       "        vertical-align: middle;\n",
       "    }\n",
       "\n",
       "    .dataframe tbody tr th {\n",
       "        vertical-align: top;\n",
       "    }\n",
       "\n",
       "    .dataframe thead th {\n",
       "        text-align: right;\n",
       "    }\n",
       "</style>\n",
       "<table border=\"1\" class=\"dataframe\">\n",
       "  <thead>\n",
       "    <tr style=\"text-align: right;\">\n",
       "      <th></th>\n",
       "      <th>Country (region)</th>\n",
       "      <th>SD of Ladder</th>\n",
       "      <th>Positive affect</th>\n",
       "      <th>Negative affect</th>\n",
       "      <th>Social support</th>\n",
       "      <th>Freedom</th>\n",
       "      <th>Corruption</th>\n",
       "      <th>Generosity</th>\n",
       "      <th>Log of GDP\\nper capita</th>\n",
       "      <th>Healthy life\\nexpectancy</th>\n",
       "    </tr>\n",
       "    <tr>\n",
       "      <th>Ladder</th>\n",
       "      <th></th>\n",
       "      <th></th>\n",
       "      <th></th>\n",
       "      <th></th>\n",
       "      <th></th>\n",
       "      <th></th>\n",
       "      <th></th>\n",
       "      <th></th>\n",
       "      <th></th>\n",
       "      <th></th>\n",
       "    </tr>\n",
       "  </thead>\n",
       "  <tbody>\n",
       "  </tbody>\n",
       "</table>\n",
       "</div>"
      ],
      "text/plain": [
       "Empty DataFrame\n",
       "Columns: [Country (region), SD of Ladder, Positive affect, Negative affect, Social support, Freedom, Corruption, Generosity, Log of GDP\n",
       "per capita, Healthy life\n",
       "expectancy]\n",
       "Index: []"
      ]
     },
     "execution_count": 16,
     "metadata": {},
     "output_type": "execute_result"
    }
   ],
   "source": [
    "wh[wh['Generosity'].isnull()]#figure it out!!\n"
   ]
  },
  {
   "cell_type": "code",
   "execution_count": 17,
   "metadata": {},
   "outputs": [],
   "source": [
    "wh.drop(index=28,inplace = True)"
   ]
  },
  {
   "cell_type": "code",
   "execution_count": 18,
   "metadata": {},
   "outputs": [
    {
     "data": {
      "text/plain": [
       "Country (region)            0\n",
       "SD of Ladder                0\n",
       "Positive affect             0\n",
       "Negative affect             0\n",
       "Social support              0\n",
       "Freedom                     0\n",
       "Corruption                  0\n",
       "Generosity                  0\n",
       "Log of GDP\\nper capita      0\n",
       "Healthy life\\nexpectancy    0\n",
       "dtype: int64"
      ]
     },
     "execution_count": 18,
     "metadata": {},
     "output_type": "execute_result"
    }
   ],
   "source": [
    "wh.isnull().sum()"
   ]
  },
  {
   "cell_type": "code",
   "execution_count": 19,
   "metadata": {},
   "outputs": [
    {
     "data": {
      "text/plain": [
       "(155, 10)"
      ]
     },
     "execution_count": 19,
     "metadata": {},
     "output_type": "execute_result"
    }
   ],
   "source": [
    "wh.shape"
   ]
  },
  {
   "cell_type": "code",
   "execution_count": 20,
   "metadata": {},
   "outputs": [],
   "source": [
    "import seaborn as sns"
   ]
  },
  {
   "cell_type": "code",
   "execution_count": 21,
   "metadata": {},
   "outputs": [
    {
     "data": {
      "text/plain": [
       "Index(['Country (region)', 'SD of Ladder', 'Positive affect',\n",
       "       'Negative affect', 'Social support', 'Freedom', 'Corruption',\n",
       "       'Generosity', 'Log of GDP\\nper capita', 'Healthy life\\nexpectancy'],\n",
       "      dtype='object')"
      ]
     },
     "execution_count": 21,
     "metadata": {},
     "output_type": "execute_result"
    }
   ],
   "source": [
    "wh.columns"
   ]
  },
  {
   "cell_type": "code",
   "execution_count": 22,
   "metadata": {},
   "outputs": [
    {
     "data": {
      "text/html": [
       "<div>\n",
       "<style scoped>\n",
       "    .dataframe tbody tr th:only-of-type {\n",
       "        vertical-align: middle;\n",
       "    }\n",
       "\n",
       "    .dataframe tbody tr th {\n",
       "        vertical-align: top;\n",
       "    }\n",
       "\n",
       "    .dataframe thead th {\n",
       "        text-align: right;\n",
       "    }\n",
       "</style>\n",
       "<table border=\"1\" class=\"dataframe\">\n",
       "  <thead>\n",
       "    <tr style=\"text-align: right;\">\n",
       "      <th></th>\n",
       "      <th>SD of Ladder</th>\n",
       "      <th>Positive affect</th>\n",
       "      <th>Negative affect</th>\n",
       "      <th>Social support</th>\n",
       "      <th>Freedom</th>\n",
       "      <th>Corruption</th>\n",
       "      <th>Generosity</th>\n",
       "      <th>Log of GDP\\nper capita</th>\n",
       "      <th>Healthy life\\nexpectancy</th>\n",
       "    </tr>\n",
       "  </thead>\n",
       "  <tbody>\n",
       "    <tr>\n",
       "      <th>SD of Ladder</th>\n",
       "      <td>1.000000</td>\n",
       "      <td>0.086810</td>\n",
       "      <td>0.619182</td>\n",
       "      <td>0.600539</td>\n",
       "      <td>0.252362</td>\n",
       "      <td>0.254921</td>\n",
       "      <td>0.392010</td>\n",
       "      <td>0.630707</td>\n",
       "      <td>0.603724</td>\n",
       "    </tr>\n",
       "    <tr>\n",
       "      <th>Positive affect</th>\n",
       "      <td>0.086810</td>\n",
       "      <td>1.000000</td>\n",
       "      <td>0.390630</td>\n",
       "      <td>0.385463</td>\n",
       "      <td>0.681877</td>\n",
       "      <td>0.205940</td>\n",
       "      <td>0.355762</td>\n",
       "      <td>0.288531</td>\n",
       "      <td>0.325146</td>\n",
       "    </tr>\n",
       "    <tr>\n",
       "      <th>Negative affect</th>\n",
       "      <td>0.619182</td>\n",
       "      <td>0.390630</td>\n",
       "      <td>1.000000</td>\n",
       "      <td>0.622378</td>\n",
       "      <td>0.430463</td>\n",
       "      <td>0.156866</td>\n",
       "      <td>0.338205</td>\n",
       "      <td>0.528780</td>\n",
       "      <td>0.473747</td>\n",
       "    </tr>\n",
       "    <tr>\n",
       "      <th>Social support</th>\n",
       "      <td>0.600539</td>\n",
       "      <td>0.385463</td>\n",
       "      <td>0.622378</td>\n",
       "      <td>1.000000</td>\n",
       "      <td>0.448655</td>\n",
       "      <td>0.116967</td>\n",
       "      <td>0.442846</td>\n",
       "      <td>0.753707</td>\n",
       "      <td>0.737903</td>\n",
       "    </tr>\n",
       "    <tr>\n",
       "      <th>Freedom</th>\n",
       "      <td>0.252362</td>\n",
       "      <td>0.681877</td>\n",
       "      <td>0.430463</td>\n",
       "      <td>0.448655</td>\n",
       "      <td>1.000000</td>\n",
       "      <td>0.373204</td>\n",
       "      <td>0.490223</td>\n",
       "      <td>0.399967</td>\n",
       "      <td>0.411738</td>\n",
       "    </tr>\n",
       "    <tr>\n",
       "      <th>Corruption</th>\n",
       "      <td>0.254921</td>\n",
       "      <td>0.205940</td>\n",
       "      <td>0.156866</td>\n",
       "      <td>0.116967</td>\n",
       "      <td>0.373204</td>\n",
       "      <td>1.000000</td>\n",
       "      <td>0.259250</td>\n",
       "      <td>0.189631</td>\n",
       "      <td>0.119011</td>\n",
       "    </tr>\n",
       "    <tr>\n",
       "      <th>Generosity</th>\n",
       "      <td>0.392010</td>\n",
       "      <td>0.355762</td>\n",
       "      <td>0.338205</td>\n",
       "      <td>0.442846</td>\n",
       "      <td>0.490223</td>\n",
       "      <td>0.259250</td>\n",
       "      <td>1.000000</td>\n",
       "      <td>0.477675</td>\n",
       "      <td>0.419323</td>\n",
       "    </tr>\n",
       "    <tr>\n",
       "      <th>Log of GDP\\nper capita</th>\n",
       "      <td>0.630707</td>\n",
       "      <td>0.288531</td>\n",
       "      <td>0.528780</td>\n",
       "      <td>0.753707</td>\n",
       "      <td>0.399967</td>\n",
       "      <td>0.189631</td>\n",
       "      <td>0.477675</td>\n",
       "      <td>1.000000</td>\n",
       "      <td>0.832427</td>\n",
       "    </tr>\n",
       "    <tr>\n",
       "      <th>Healthy life\\nexpectancy</th>\n",
       "      <td>0.603724</td>\n",
       "      <td>0.325146</td>\n",
       "      <td>0.473747</td>\n",
       "      <td>0.737903</td>\n",
       "      <td>0.411738</td>\n",
       "      <td>0.119011</td>\n",
       "      <td>0.419323</td>\n",
       "      <td>0.832427</td>\n",
       "      <td>1.000000</td>\n",
       "    </tr>\n",
       "  </tbody>\n",
       "</table>\n",
       "</div>"
      ],
      "text/plain": [
       "                          SD of Ladder  Positive affect  Negative affect  \\\n",
       "SD of Ladder                  1.000000         0.086810         0.619182   \n",
       "Positive affect               0.086810         1.000000         0.390630   \n",
       "Negative affect               0.619182         0.390630         1.000000   \n",
       "Social support                0.600539         0.385463         0.622378   \n",
       "Freedom                       0.252362         0.681877         0.430463   \n",
       "Corruption                    0.254921         0.205940         0.156866   \n",
       "Generosity                    0.392010         0.355762         0.338205   \n",
       "Log of GDP\\nper capita        0.630707         0.288531         0.528780   \n",
       "Healthy life\\nexpectancy      0.603724         0.325146         0.473747   \n",
       "\n",
       "                          Social support   Freedom  Corruption  Generosity  \\\n",
       "SD of Ladder                    0.600539  0.252362    0.254921    0.392010   \n",
       "Positive affect                 0.385463  0.681877    0.205940    0.355762   \n",
       "Negative affect                 0.622378  0.430463    0.156866    0.338205   \n",
       "Social support                  1.000000  0.448655    0.116967    0.442846   \n",
       "Freedom                         0.448655  1.000000    0.373204    0.490223   \n",
       "Corruption                      0.116967  0.373204    1.000000    0.259250   \n",
       "Generosity                      0.442846  0.490223    0.259250    1.000000   \n",
       "Log of GDP\\nper capita          0.753707  0.399967    0.189631    0.477675   \n",
       "Healthy life\\nexpectancy        0.737903  0.411738    0.119011    0.419323   \n",
       "\n",
       "                          Log of GDP\\nper capita  Healthy life\\nexpectancy  \n",
       "SD of Ladder                            0.630707                  0.603724  \n",
       "Positive affect                         0.288531                  0.325146  \n",
       "Negative affect                         0.528780                  0.473747  \n",
       "Social support                          0.753707                  0.737903  \n",
       "Freedom                                 0.399967                  0.411738  \n",
       "Corruption                              0.189631                  0.119011  \n",
       "Generosity                              0.477675                  0.419323  \n",
       "Log of GDP\\nper capita                  1.000000                  0.832427  \n",
       "Healthy life\\nexpectancy                0.832427                  1.000000  "
      ]
     },
     "execution_count": 22,
     "metadata": {},
     "output_type": "execute_result"
    }
   ],
   "source": [
    "wh.corr()"
   ]
  },
  {
   "cell_type": "code",
   "execution_count": 23,
   "metadata": {},
   "outputs": [],
   "source": [
    "import seaborn as sns"
   ]
  },
  {
   "cell_type": "code",
   "execution_count": null,
   "metadata": {},
   "outputs": [],
   "source": []
  },
  {
   "cell_type": "code",
   "execution_count": 24,
   "metadata": {},
   "outputs": [],
   "source": [
    "#sns.scatterplot(x=wh['bmi'], y=insurance_data['charges'], hue=insurance_data['smoker'])\n",
    "#wh.dtypes\n",
    "#for col in list(wh.columns):\n",
    "    #try:\n",
    "        #wh[col] = wh[col].astype(int)\n",
    "   # except:\n",
    "        #pass"
   ]
  },
  {
   "cell_type": "code",
   "execution_count": 25,
   "metadata": {},
   "outputs": [],
   "source": [
    "#g = sns.PairGrid(wh)#do it only for some \n",
    "#g.map(mpl.pyplot.scatter)"
   ]
  },
  {
   "cell_type": "code",
   "execution_count": 26,
   "metadata": {},
   "outputs": [],
   "source": [
    "y = wh['Healthy life\\nexpectancy']\n",
    "feutures = ['Social support', 'Log of GDP\\nper capita']\n",
    "X = wh[feutures]\n",
    "from sklearn.model_selection import train_test_split"
   ]
  },
  {
   "cell_type": "code",
   "execution_count": 27,
   "metadata": {},
   "outputs": [],
   "source": [
    "Xtrain, Xtest, ytrain, ytest = train_test_split(X,y,test_size=0.20, random_state=1)\n",
    "from sklearn.linear_model import SGDRegressor\n"
   ]
  },
  {
   "cell_type": "code",
   "execution_count": 28,
   "metadata": {},
   "outputs": [],
   "source": [
    "wh_model = SGDRegressor()"
   ]
  },
  {
   "cell_type": "code",
   "execution_count": 29,
   "metadata": {},
   "outputs": [
    {
     "data": {
      "text/plain": [
       "SGDRegressor(alpha=0.0001, average=False, early_stopping=False, epsilon=0.1,\n",
       "             eta0=0.01, fit_intercept=True, l1_ratio=0.15,\n",
       "             learning_rate='invscaling', loss='squared_loss', max_iter=1000,\n",
       "             n_iter_no_change=5, penalty='l2', power_t=0.25, random_state=None,\n",
       "             shuffle=True, tol=0.001, validation_fraction=0.1, verbose=0,\n",
       "             warm_start=False)"
      ]
     },
     "execution_count": 29,
     "metadata": {},
     "output_type": "execute_result"
    }
   ],
   "source": [
    "wh_model.fit(X=Xtrain, y=ytrain)"
   ]
  },
  {
   "cell_type": "code",
   "execution_count": 30,
   "metadata": {},
   "outputs": [
    {
     "name": "stdout",
     "output_type": "stream",
     "text": [
      "Validation MAE : 15,959,431,298,282\n"
     ]
    }
   ],
   "source": [
    "#val_predictions = wh_model.predict(Xtest)\n",
    "#val_mae = skl.metrics.mean_absolute_error(val_predictions, ytest)\n",
    "#print(\"Validation MAE : {:,.0f}\".format(val_mae))\n"
   ]
  },
  {
   "cell_type": "code",
   "execution_count": 31,
   "metadata": {},
   "outputs": [],
   "source": [
    "#Cross Validation\n",
    "from sklearn.model_selection import cross_val_score"
   ]
  },
  {
   "cell_type": "code",
   "execution_count": 32,
   "metadata": {},
   "outputs": [
    {
     "name": "stdout",
     "output_type": "stream",
     "text": [
      "MAE scores:\n",
      " [2.03648591e+12 9.44206515e+12 2.51392136e+13 1.54750235e+13\n",
      " 2.74883445e+13]\n"
     ]
    }
   ],
   "source": [
    "scores = -1 * cross_val_score(wh_model, Xtest, ytest,\n",
    "                              cv=5,\n",
    "                              scoring='neg_mean_absolute_error')\n",
    "\n",
    "print(\"MAE scores:\\n\", scores)"
   ]
  },
  {
   "cell_type": "code",
   "execution_count": 33,
   "metadata": {},
   "outputs": [
    {
     "name": "stdout",
     "output_type": "stream",
     "text": [
      "Average MAE score (across experiments):\n",
      "15916226519022.604\n"
     ]
    }
   ],
   "source": [
    "print(\"Average MAE score (across experiments):\")\n",
    "print(scores.mean())\n",
    "\n"
   ]
  },
  {
   "cell_type": "code",
   "execution_count": 34,
   "metadata": {},
   "outputs": [
    {
     "name": "stdout",
     "output_type": "stream",
     "text": [
      "Average MAE score (across experiments):\n",
      "15916226519022.604\n"
     ]
    }
   ],
   "source": []
  },
  {
   "cell_type": "code",
   "execution_count": null,
   "metadata": {},
   "outputs": [],
   "source": []
  }
 ],
 "metadata": {
  "kernelspec": {
   "display_name": "Python 3",
   "language": "python",
   "name": "python3"
  },
  "language_info": {
   "codemirror_mode": {
    "name": "ipython",
    "version": 3
   },
   "file_extension": ".py",
   "mimetype": "text/x-python",
   "name": "python",
   "nbconvert_exporter": "python",
   "pygments_lexer": "ipython3",
   "version": "3.7.3"
  }
 },
 "nbformat": 4,
 "nbformat_minor": 4
}
